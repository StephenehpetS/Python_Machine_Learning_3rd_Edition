{
 "cells": [
  {
   "cell_type": "markdown",
   "id": "dabdee28",
   "metadata": {},
   "source": [
    "参考：[Python-Gini-Index-Calculator](https://github.com/dilumb/Python-Gini-Index-Calculator)"
   ]
  },
  {
   "cell_type": "code",
   "execution_count": 2,
   "id": "584aa441",
   "metadata": {},
   "outputs": [],
   "source": [
    "import matplotlib.pyplot as plt\n",
    "\n",
    "def GRLC(values):\n",
    "    '''\n",
    "    Calculate Gini index, Gini coefficient, Robin Hood index, and points of \n",
    "    Lorenz curve based on the instructions given in \n",
    "    www.peterrosenmai.com/lorenz-curve-graphing-tool-and-gini-coefficient-calculator\n",
    "    Lorenz curve values as given as lists of x & y points [[x1, x2], [y1, y2]]\n",
    "    @param values: List of values\n",
    "    @return: [Gini index, Gini coefficient, Robin Hood index, [Lorenz curve]] \n",
    "    '''\n",
    "    n = len(values)\n",
    "    assert(n > 0), 'Empty list of values'\n",
    "    sortedValues = sorted(values) #Sort smallest to largest\n",
    "\n",
    "    #Find cumulative totals\n",
    "    cumm = [0]\n",
    "    for i in range(n):\n",
    "        cumm.append(sum(sortedValues[0:(i + 1)]))\n",
    "\n",
    "    #Calculate Lorenz points\n",
    "    LorenzPoints = [[], []]\n",
    "    sumYs = 0           #Some of all y values\n",
    "    robinHoodIdx = -1   #Robin Hood index max(x_i, y_i)\n",
    "    for i in range(1, n + 2):\n",
    "        x = 100.0 * (i - 1)/n\n",
    "        y = 100.0 * (cumm[i - 1]/float(cumm[n]))\n",
    "        LorenzPoints[0].append(x)\n",
    "        LorenzPoints[1].append(y)\n",
    "        sumYs += y\n",
    "        maxX_Y = x - y\n",
    "        if maxX_Y > robinHoodIdx: robinHoodIdx = maxX_Y   \n",
    "    \n",
    "    giniIdx = 100 + (100 - 2 * sumYs)/n #Gini index \n",
    "\n",
    "    return [giniIdx, giniIdx/100, robinHoodIdx, LorenzPoints]"
   ]
  },
  {
   "cell_type": "code",
   "execution_count": 8,
   "id": "2e7c7267",
   "metadata": {},
   "outputs": [],
   "source": [
    "#Example\n",
    "sample1 = [1, 2, 1.2, 2, 3, 1.9, 2.2, 4.5]\n",
    "sample2 = [812, 841, 400, 487, 262, 442, 972, 457, 491, 461, 430, 465, 991, 479, 427, 456]\n",
    "result = GRLC(sample1)\n",
    "#result = GRLC(sample2)"
   ]
  },
  {
   "cell_type": "code",
   "execution_count": 14,
   "id": "b8610efc",
   "metadata": {},
   "outputs": [
    {
     "name": "stdout",
     "output_type": "stream",
     "text": [
      "Gini Index 24.157303370786522\n",
      "Gini Coefficient 0.24157303370786523\n",
      "Robin Hood Index 17.134831460674164\n",
      "Lorenz curve points [[0.0, 12.5, 25.0, 37.5, 50.0, 62.5, 75.0, 87.5, 100.0], [0.0, 5.617977528089887, 12.359550561797754, 23.033707865168537, 34.269662921348306, 45.50561797752808, 57.865168539325836, 74.71910112359551, 100.0]]\n"
     ]
    }
   ],
   "source": [
    "print('Gini Index', result[0])\n",
    "print('Gini Coefficient', result[1])\n",
    "print('Robin Hood Index', result[2])\n",
    "print('Lorenz curve points', result[3])"
   ]
  },
  {
   "cell_type": "code",
   "execution_count": 9,
   "id": "9a19993f",
   "metadata": {},
   "outputs": [
    {
     "data": {
      "image/png": "[encoded data removed]",
      "text/plain": [
       "<Figure size 432x288 with 1 Axes>"
      ]
     },
     "metadata": {
      "needs_background": "light"
     },
     "output_type": "display_data"
    }
   ],
   "source": [
    "#Plot\n",
    "plt.plot(result[3][0], result[3][1], [0, 100], [0, 100], '--')\n",
    "plt.xlabel('% of pupulation')\n",
    "plt.ylabel('% of values')\n",
    "plt.show()"
   ]
  },
  {
   "cell_type": "markdown",
   "id": "a8efce21",
   "metadata": {},
   "source": [
    "https://vincentarelbundock.github.io/Rdatasets/articles/data.html\n",
    "\n",
    "https://vincentarelbundock.github.io/Rdatasets/doc/Ecdat/incomeInequality.html"
   ]
  },
  {
   "cell_type": "code",
   "execution_count": null,
   "id": "c22b2cc4",
   "metadata": {},
   "outputs": [],
   "source": []
  }
 ],
 "metadata": {
  "kernelspec": {
   "display_name": "Python 3 (ipykernel)",
   "language": "python",
   "name": "python3"
  },
  "language_info": {
   "codemirror_mode": {
    "name": "ipython",
    "version": 3
   },
   "file_extension": ".py",
   "mimetype": "text/x-python",
   "name": "python",
   "nbconvert_exporter": "python",
   "pygments_lexer": "ipython3",
   "version": "3.9.12"
  },
  "toc": {
   "base_numbering": 1,
   "nav_menu": {},
   "number_sections": true,
   "sideBar": true,
   "skip_h1_title": false,
   "title_cell": "Table of Contents",
   "title_sidebar": "Contents",
   "toc_cell": false,
   "toc_position": {},
   "toc_section_display": true,
   "toc_window_display": false
  }
 },
 "nbformat": 4,
 "nbformat_minor": 5
}
